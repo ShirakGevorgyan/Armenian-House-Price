{
 "cells": [
  {
   "cell_type": "code",
   "execution_count": 1,
   "id": "af1b50e7-b66a-4c52-a7df-917c39deb821",
   "metadata": {},
   "outputs": [],
   "source": [
    "from selenium import webdriver\n",
    "from selenium.webdriver.common.by import By\n",
    "from selenium.webdriver.common.keys import Keys\n",
    "import time\n",
    "import csv\n",
    "import pandas as pd"
   ]
  },
  {
   "cell_type": "code",
   "execution_count": 12,
   "id": "3836ecee-d582-4bb7-8694-33636df88293",
   "metadata": {},
   "outputs": [],
   "source": [
    "info = []"
   ]
  },
  {
   "cell_type": "code",
   "execution_count": 14,
   "id": "9739351e-8e45-4f82-8a11-4420c209942a",
   "metadata": {},
   "outputs": [
    {
     "name": "stdout",
     "output_type": "stream",
     "text": [
      "Error: Message: no such element: Unable to locate element: {\"method\":\"css selector\",\"selector\":\"#pagination > a:nth-child(7)\"}\n",
      "  (Session info: chrome=127.0.6533.72); For documentation on this error, please visit: https://www.selenium.dev/documentation/webdriver/troubleshooting/errors#no-such-element-exception\n",
      "Stacktrace:\n",
      "\tGetHandleVerifier [0x00007FF6663F9632+30946]\n",
      "\t(No symbol) [0x00007FF6663AE3C9]\n",
      "\t(No symbol) [0x00007FF6662A6FDA]\n",
      "\t(No symbol) [0x00007FF6662F822C]\n",
      "\t(No symbol) [0x00007FF6662F850C]\n",
      "\t(No symbol) [0x00007FF66633DCB7]\n",
      "\t(No symbol) [0x00007FF66631CAAF]\n",
      "\t(No symbol) [0x00007FF66633B041]\n",
      "\t(No symbol) [0x00007FF66631C813]\n",
      "\t(No symbol) [0x00007FF6662EA6E5]\n",
      "\t(No symbol) [0x00007FF6662EB021]\n",
      "\tGetHandleVerifier [0x00007FF66652F83D+1301229]\n",
      "\tGetHandleVerifier [0x00007FF66653BDB7+1351783]\n",
      "\tGetHandleVerifier [0x00007FF666532A03+1313971]\n",
      "\tGetHandleVerifier [0x00007FF66642DD06+245686]\n",
      "\t(No symbol) [0x00007FF6663B758F]\n",
      "\t(No symbol) [0x00007FF6663B3804]\n",
      "\t(No symbol) [0x00007FF6663B3992]\n",
      "\t(No symbol) [0x00007FF6663AA3EF]\n",
      "\tBaseThreadInitThunk [0x00007FFC3CF8257D+29]\n",
      "\tRtlUserThreadStart [0x00007FFC3F18AF28+40]\n",
      "\n"
     ]
    }
   ],
   "source": [
    "# \n",
    "driver = webdriver.Chrome()\n",
    "\n",
    "try:\n",
    "    driver.get(url=\"https://banali.am/vachark/bnakaran-yerevanum?page=388\")\n",
    "    time.sleep(3)   \n",
    "    # driver.find_element(By.CSS_SELECTOR , \"#app > div.search-page-main.extend-ui > div.search-box > div.search-page-top > div.priority-navigation.main-filters > div > div:nth-child(3) > div > div.filter-summary\").click()\n",
    "    # time.sleep(2)\n",
    "    # driver.find_element(By.CSS_SELECTOR , \"#app > div.search-page-main.extend-ui > div.search-box > div.search-page-top > div.priority-navigation.main-filters > div > div:nth-child(3) > div > div.filter-dropdown > div.filter-content.property_type-content > ul > li:nth-child(1) > div\").click()\n",
    "    time.sleep(2)\n",
    "    columns = [\"Տարածաշրջան\", \"Շինության տիպ\", \"Սենյակներ\", \"Մակերես\", \"Հարկ\", \"Վերանորոգում\" , \"Գինը\"]\n",
    "    info = []\n",
    "    for j in range(65):\n",
    "        for i in range(1 , 10):\n",
    "            time.sleep(2)\n",
    "            new_listik = []\n",
    "            try:\n",
    "                driver.find_element(By.CSS_SELECTOR , f\"#app > div.search-page-main.extend-ui > div.d-flex.results-wrapper.mobile-is-post-view > div.scrolling-view-port > div.post-list > div.posts.layout-search > div:nth-child({i}) > a\").click()\n",
    "                time.sleep(2)\n",
    "            except:\n",
    "                continue\n",
    "            try:    \n",
    "                content = driver.find_element(By.CSS_SELECTOR , \"#router-modal > div > div._199FaV9HklYy0FFuFFXQVE > div.bl_modal_root > div > div > div.post-details > div.post-content > div.post-address\").text\n",
    "                full_address = content\n",
    "                content = \", \".join(content.split(\", \")[:2])\n",
    "                content = content.replace(\"-\" , \" \")\n",
    "                new_listik.append(content)\n",
    "            except:\n",
    "                driver.back()\n",
    "                continue\n",
    "            try:\n",
    "                content = driver.find_element(By.CSS_SELECTOR , \"#router-modal > div > div._199FaV9HklYy0FFuFFXQVE > div.bl_modal_root > div > div > div.post-details > div.post-content > div:nth-child(9) > div:nth-child(3) > div > div._1scNe5JZvUHaGWJa_A_StX > div:nth-child(2) > div.amenity-info\" ).text\n",
    "                new_listik.append(content)\n",
    "            except:\n",
    "                driver.back()\n",
    "                continue\n",
    "            try:\n",
    "                content = driver.find_element(By.CSS_SELECTOR , \"#router-modal > div > div._199FaV9HklYy0FFuFFXQVE > div.bl_modal_root > div > div > div.post-details > div.post-content > div:nth-child(9) > div:nth-child(2) > div > div:nth-child(6) > div > div:nth-child(1) > div.amenity-info\").text\n",
    "                new_listik.append(content)\n",
    "            except:\n",
    "                driver.back()\n",
    "                continue\n",
    "            try:\n",
    "                content = driver.find_element(By.CSS_SELECTOR , \"#router-modal > div > div._199FaV9HklYy0FFuFFXQVE > div.bl_modal_root > div > div > div.post-details > div.post-content > div:nth-child(9) > div:nth-child(2) > div > div:nth-child(6) > div > div:nth-child(2) > div.amenity-info\").text\n",
    "                new_listik.append(content)\n",
    "            except:\n",
    "                driver.back()\n",
    "                continue\n",
    "            try:\n",
    "                content = driver.find_element(By.CSS_SELECTOR , \"#router-modal > div > div._199FaV9HklYy0FFuFFXQVE > div.bl_modal_root > div > div > div.post-details > div.post-content > ul > li:nth-child(3) > span\").text\n",
    "                content = content.split(\"/\")[0]\n",
    "                new_listik.append(content)\n",
    "            except:\n",
    "                driver.back()\n",
    "                continue\n",
    "            try:\n",
    "                content = driver.find_element(By.CSS_SELECTOR , \"#router-modal > div > div._199FaV9HklYy0FFuFFXQVE > div.bl_modal_root > div > div > div.post-details > div.post-content > div:nth-child(9) > div:nth-child(2) > div > div:nth-child(6) > div > div:nth-child(6) > div.amenity-info\").text\n",
    "                new_listik.append(content)\n",
    "            except:\n",
    "                driver.back()\n",
    "                continue\n",
    "            try:\n",
    "                content = driver.find_element(By.CSS_SELECTOR , \"#router-modal > div > div._199FaV9HklYy0FFuFFXQVE > div.bl_modal_root > div > div > div.post-details > div.post-content > div.price-section > span.price-val > div\").text\n",
    "                content = content.replace(\",\" , \"\")              \n",
    "                content = int(int(content)/390)\n",
    "                content = \"$\" + str(content)\n",
    "                new_listik.append(content)\n",
    "            except:\n",
    "                driver.back()\n",
    "                continue\n",
    "            time.sleep(2)\n",
    "            if i > 5:\n",
    "                driver.find_element(By.TAG_NAME, \"body\").send_keys(Keys.PAGE_DOWN)\n",
    "            time.sleep(2)\n",
    "            if (new_listik in info) == False:\n",
    "                info.append(new_listik)\n",
    "            driver.back()\n",
    "        time.sleep(2)\n",
    "        driver.find_element(By.CSS_SELECTOR , \"#pagination > a:nth-child(7)\").click()\n",
    "        time.sleep(3)                          \n",
    "        \n",
    "\n",
    "except Exception as exx:\n",
    "    print(f\"Error: {exx}\")\n",
    "finally:\n",
    "    driver.close()\n",
    "    driver.quit()"
   ]
  },
  {
   "cell_type": "code",
   "execution_count": 6,
   "id": "7b99ef35-e405-4927-8c14-8180ec389609",
   "metadata": {},
   "outputs": [
    {
     "data": {
      "text/plain": [
       "9"
      ]
     },
     "execution_count": 6,
     "metadata": {},
     "output_type": "execute_result"
    }
   ],
   "source": [
    "i"
   ]
  },
  {
   "cell_type": "code",
   "execution_count": 10,
   "id": "e1dc1bb8-f589-4d08-a759-ef3183fc0958",
   "metadata": {},
   "outputs": [
    {
     "data": {
      "text/plain": [
       "12"
      ]
     },
     "execution_count": 10,
     "metadata": {},
     "output_type": "execute_result"
    }
   ],
   "source": [
    "j"
   ]
  },
  {
   "cell_type": "code",
   "execution_count": 15,
   "id": "a5a93ccc-733c-4215-a188-9c8dea4c21be",
   "metadata": {},
   "outputs": [
    {
     "data": {
      "text/plain": [
       "212"
      ]
     },
     "execution_count": 15,
     "metadata": {},
     "output_type": "execute_result"
    }
   ],
   "source": [
    "len(info)"
   ]
  },
  {
   "cell_type": "code",
   "execution_count": 16,
   "id": "bee8910a-96d1-4fbe-84e4-c613d71f140c",
   "metadata": {},
   "outputs": [],
   "source": [
    "csv_file_path = 'kes6.csv'\n",
    "with open(csv_file_path, mode='w', newline='', encoding='utf-8') as file:\n",
    "    writer = csv.writer(file)\n",
    "    writer.writerow(columns)\n",
    "    writer.writerows(info)"
   ]
  },
  {
   "cell_type": "code",
   "execution_count": 28,
   "id": "17a14b9b-53f6-476c-93e2-81cdd1141f03",
   "metadata": {},
   "outputs": [],
   "source": [
    "df1 = pd.read_csv(\"kes.csv\")"
   ]
  },
  {
   "cell_type": "code",
   "execution_count": 30,
   "id": "6df05b05-bb18-4a8b-b901-44c73044a6f1",
   "metadata": {},
   "outputs": [],
   "source": [
    "df2 = pd.read_csv(\"verjnak.csv\")"
   ]
  },
  {
   "cell_type": "code",
   "execution_count": 31,
   "id": "054682dc-4789-418f-9729-a00b5767d6d2",
   "metadata": {},
   "outputs": [],
   "source": [
    "x = pd.concat([df1, df2])"
   ]
  },
  {
   "cell_type": "code",
   "execution_count": 32,
   "id": "f3c63049-f9a0-422c-bba6-21ba4be51894",
   "metadata": {},
   "outputs": [],
   "source": [
    "x = x.drop_duplicates()"
   ]
  },
  {
   "cell_type": "code",
   "execution_count": 33,
   "id": "ac2f1204-53ae-4fb7-a4de-e4d33865ad02",
   "metadata": {},
   "outputs": [],
   "source": [
    "x.to_csv('verjnak.csv', index=False , encoding = \"utf-8\")"
   ]
  },
  {
   "cell_type": "code",
   "execution_count": null,
   "id": "5a33cf84-2b4b-49d4-b3fa-de25c3177249",
   "metadata": {},
   "outputs": [],
   "source": []
  }
 ],
 "metadata": {
  "kernelspec": {
   "display_name": "Python 3 (ipykernel)",
   "language": "python",
   "name": "python3"
  },
  "language_info": {
   "codemirror_mode": {
    "name": "ipython",
    "version": 3
   },
   "file_extension": ".py",
   "mimetype": "text/x-python",
   "name": "python",
   "nbconvert_exporter": "python",
   "pygments_lexer": "ipython3",
   "version": "3.12.2"
  }
 },
 "nbformat": 4,
 "nbformat_minor": 5
}
