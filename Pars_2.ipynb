{
 "cells": [
  {
   "cell_type": "code",
   "execution_count": 1,
   "id": "27a8c7c7-5aa7-406f-808b-58f9ba2123b3",
   "metadata": {},
   "outputs": [],
   "source": [
    "from selenium import webdriver\n",
    "from selenium.webdriver.common.by import By\n",
    "from selenium.webdriver.common.keys import Keys\n",
    "import time\n",
    "import csv"
   ]
  },
  {
   "cell_type": "code",
   "execution_count": 13,
   "id": "d25c62b1-5eda-4830-afd0-4cb4d651f5ad",
   "metadata": {},
   "outputs": [
    {
     "name": "stdout",
     "output_type": "stream",
     "text": [
      "Message: no such element: Unable to locate element: {\"method\":\"css selector\",\"selector\":\"#paginationId > nav.pagination-next-prev > ul > li:nth-child(2) > a\"}\n",
      "  (Session info: chrome=127.0.6533.72); For documentation on this error, please visit: https://www.selenium.dev/documentation/webdriver/troubleshooting/errors#no-such-element-exception\n",
      "Stacktrace:\n",
      "\tGetHandleVerifier [0x00007FF697FB9632+30946]\n",
      "\t(No symbol) [0x00007FF697F6E3C9]\n",
      "\t(No symbol) [0x00007FF697E66FDA]\n",
      "\t(No symbol) [0x00007FF697EB822C]\n",
      "\t(No symbol) [0x00007FF697EB850C]\n",
      "\t(No symbol) [0x00007FF697EFDCB7]\n",
      "\t(No symbol) [0x00007FF697EDCAAF]\n",
      "\t(No symbol) [0x00007FF697EFB041]\n",
      "\t(No symbol) [0x00007FF697EDC813]\n",
      "\t(No symbol) [0x00007FF697EAA6E5]\n",
      "\t(No symbol) [0x00007FF697EAB021]\n",
      "\tGetHandleVerifier [0x00007FF6980EF83D+1301229]\n",
      "\tGetHandleVerifier [0x00007FF6980FBDB7+1351783]\n",
      "\tGetHandleVerifier [0x00007FF6980F2A03+1313971]\n",
      "\tGetHandleVerifier [0x00007FF697FEDD06+245686]\n",
      "\t(No symbol) [0x00007FF697F7758F]\n",
      "\t(No symbol) [0x00007FF697F73804]\n",
      "\t(No symbol) [0x00007FF697F73992]\n",
      "\t(No symbol) [0x00007FF697F6A3EF]\n",
      "\tBaseThreadInitThunk [0x00007FFC3CF8257D+29]\n",
      "\tRtlUserThreadStart [0x00007FFC3F18AF28+40]\n",
      "\n"
     ]
    }
   ],
   "source": [
    "value = 390\n",
    "driver = webdriver.Chrome()\n",
    "\n",
    "try:\n",
    "    driver.get(url = \"https://www.senyak.am/\")\n",
    "    time.sleep(2)    \n",
    "    driver.find_element(By.CSS_SELECTOR, \"#responsive > li:nth-child(1) > a\").click()\n",
    "    time.sleep(1)\n",
    "    driver.find_element(By.CSS_SELECTOR, \"#titlebar > div > div.row.text-center.big-block > div.col-md-20-percent.col-xs-100-percent.padding-top-10.padding-bottom-10\").click()\n",
    "    time.sleep(3)\n",
    "    driver.find_element(By.CSS_SELECTOR, \"#paginationId > nav.pagination-next-prev > ul > li:nth-child(2) > a\").click()                \n",
    "    time.sleep(2)\n",
    "    current_url = driver.current_url\n",
    "    current_url = current_url[:-1]\n",
    "    current_url += \"121\"\n",
    "    driver.close()\n",
    "    driver.quit()\n",
    "    driver = webdriver.Chrome()\n",
    "    driver.get(url = current_url)\n",
    "    time.sleep(2)\n",
    "    columns = [\"Տարածաշրջան\", \"Շինության տիպ\", \"Սենյակներ\", \"Մակերես\", \"Հարկ\", \"Վերանորոգում\" , \"Գինը\"]\n",
    "    info = []\n",
    "    i = 0\n",
    "    j = 1\n",
    "    for i in range(30):\n",
    "        for j in range(1, 44):\n",
    "            if j == 10:\n",
    "                continue\n",
    "            try:\n",
    "                new_list = []\n",
    "                time.sleep(1)\n",
    "                driver.find_element(By.CSS_SELECTOR, f\"#propListContainer > article:nth-child({j}) > div > div > div.listing-title > h2 > a\").click()\n",
    "                time.sleep(1)                          \n",
    "                for l in range(1 , 8):\n",
    "                    try:\n",
    "                        if l == 6:\n",
    "                            continue\n",
    "                        content = driver.find_element(By.CSS_SELECTOR, f\"#wrapper > main > div:nth-child(1) > div > div > div.col-lg-4.col-md-5 > table > tbody > tr:nth-child({l}) > td\").text\n",
    "                        time.sleep(1)\n",
    "                        if content[-1] == \"²\":\n",
    "                            content = content[:-2]\n",
    "                        if \"/\" in content:\n",
    "                            content = content.split(\"/\")[0]\n",
    "                        new_list.append(content)                        \n",
    "                        time.sleep(2)\n",
    "                    except:\n",
    "                        driver.back()\n",
    "                        continue\n",
    "                if len(new_list) == 6:\n",
    "                    try:\n",
    "                        price = driver.find_element(By.CSS_SELECTOR , \"#wrapper > main > div:nth-child(1) > div.container > div > div.col-lg-4.col-md-5 > div.h3.text-right.margin-top-0\").text                                   \n",
    "                    except:\n",
    "                        driver.back()\n",
    "                        continue\n",
    "                else:\n",
    "                    driver.back()\n",
    "                    continue\n",
    "                price = price.replace(\" \" , \"\")\n",
    "                if len(price) > 7 and price[0].isdigit() == False:\n",
    "                    price = float(int(str(price[1:]))/value)\n",
    "                    price = \"$\" + price\n",
    "                elif len(price) > 7 and price[-1].isdigit() == False:\n",
    "                    price = float(int(str(price[:-1]))/value)\n",
    "                    price = \"$\" + price\n",
    "                new_list.append(str(price))\n",
    "                if len(new_list) == 7:\n",
    "                    info.append(new_list)\n",
    "                driver.back()\n",
    "                time.sleep(1)\n",
    "            except:\n",
    "                if i == 43:\n",
    "                    driver.back()\n",
    "                    break\n",
    "                else:                    \n",
    "                    continue\n",
    "        time.sleep(3)\n",
    "        driver.find_element(By.CSS_SELECTOR, \"#paginationId > nav.pagination-next-prev > ul > li:nth-child(2) > a\").click()                \n",
    "        time.sleep(2)\n",
    "    time.sleep(2)\n",
    "except Exception as exx:\n",
    "    print(exx)\n",
    "\n",
    "finally:\n",
    "    driver.close()\n",
    "    driver.quit()"
   ]
  },
  {
   "cell_type": "code",
   "execution_count": 9,
   "id": "79912aa9-2e0a-415e-8f7b-18147526301f",
   "metadata": {},
   "outputs": [
    {
     "data": {
      "text/plain": [
       "14"
      ]
     },
     "execution_count": 9,
     "metadata": {},
     "output_type": "execute_result"
    }
   ],
   "source": [
    "len(info)"
   ]
  },
  {
   "cell_type": "code",
   "execution_count": 32,
   "id": "627f555e-a0e1-4f43-89df-fdd9c40413c5",
   "metadata": {},
   "outputs": [
    {
     "data": {
      "text/plain": [
       "43"
      ]
     },
     "execution_count": 32,
     "metadata": {},
     "output_type": "execute_result"
    }
   ],
   "source": [
    "j"
   ]
  },
  {
   "cell_type": "code",
   "execution_count": 33,
   "id": "04c2776c-3031-4a5b-9149-f4abf23b4812",
   "metadata": {},
   "outputs": [
    {
     "data": {
      "text/plain": [
       "[['Երևան, Շենգավիթ', 'Քարե', '3', '55 ', '5', 'Նորմալ վիճակ', '$80000'],\n",
       " ['Երևան, Կենտրոն', 'Մոնոլիտ', '3', '104 ', '15', 'Կապիտալ', '$200000'],\n",
       " ['Երևան, Քանաքեռ Զեյթուն',\n",
       "  'Մոնոլիտ, Նորակառույց',\n",
       "  '2',\n",
       "  '68 ',\n",
       "  '6',\n",
       "  'Դիզայներական',\n",
       "  '$210000'],\n",
       " ['Երևան, Նոր Նորք', 'Քարե', '3', '68 ', '3', 'Կապիտալ', '$108000'],\n",
       " ['Արարատ, Արտաշատ', 'Քարե', '2', '59 ', '1', 'Կոսմետիկ', '€60\\n$65'],\n",
       " ['Երևան, Դավթաշեն', 'Մոնոլիտ', '3', '74 ', '18', 'Կապիտալ', '$183000'],\n",
       " ['Երևան, Կենտրոն', 'Քարե', '3', '150 ', '4', 'Կապիտալ', '$410000']]"
      ]
     },
     "execution_count": 33,
     "metadata": {},
     "output_type": "execute_result"
    }
   ],
   "source": [
    "info"
   ]
  },
  {
   "cell_type": "code",
   "execution_count": 14,
   "id": "488d6417-4982-479d-a28e-0a7c2d062615",
   "metadata": {},
   "outputs": [],
   "source": [
    "csv_file_path = 'output1.csv'\n",
    "with open(csv_file_path, mode='w', newline='', encoding='utf-8') as file:\n",
    "    writer = csv.writer(file)\n",
    "    writer.writerow(columns)\n",
    "    writer.writerows(info)"
   ]
  },
  {
   "cell_type": "code",
   "execution_count": null,
   "id": "c94e1b6f-ce1b-4bb6-832d-5ce98b4bc922",
   "metadata": {},
   "outputs": [],
   "source": []
  }
 ],
 "metadata": {
  "kernelspec": {
   "display_name": "Python 3 (ipykernel)",
   "language": "python",
   "name": "python3"
  },
  "language_info": {
   "codemirror_mode": {
    "name": "ipython",
    "version": 3
   },
   "file_extension": ".py",
   "mimetype": "text/x-python",
   "name": "python",
   "nbconvert_exporter": "python",
   "pygments_lexer": "ipython3",
   "version": "3.12.2"
  }
 },
 "nbformat": 4,
 "nbformat_minor": 5
}
